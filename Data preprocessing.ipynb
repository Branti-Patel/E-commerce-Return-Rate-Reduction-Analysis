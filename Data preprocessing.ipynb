{
 "cells": [
  {
   "cell_type": "code",
   "execution_count": 3,
   "id": "764922d7-227f-4e88-bbae-de02610fe05b",
   "metadata": {},
   "outputs": [
    {
     "name": "stdout",
     "output_type": "stream",
     "text": [
      "Defaulting to user installation because normal site-packages is not writeable\n",
      "Requirement already satisfied: pymysql in c:\\users\\hp\\appdata\\roaming\\python\\python312\\site-packages (1.1.1)\n"
     ]
    }
   ],
   "source": [
    "!pip install pymysql\n"
   ]
  },
  {
   "cell_type": "code",
   "execution_count": 5,
   "id": "390cf041-a975-4cb2-a170-4010121aca67",
   "metadata": {},
   "outputs": [],
   "source": [
    "import pymysql as sql\n"
   ]
  },
  {
   "cell_type": "code",
   "execution_count": 7,
   "id": "79126115-9197-45cc-9bb1-019ee40e1a1a",
   "metadata": {},
   "outputs": [],
   "source": [
    "import numpy as np\n",
    "import pandas as pd\n",
    "import pymysql as sql"
   ]
  },
  {
   "cell_type": "code",
   "execution_count": 15,
   "id": "3a8103ca-b153-48d0-aca3-a60a6902594c",
   "metadata": {},
   "outputs": [],
   "source": [
    "cs=pd.read_csv('C:\\\\Users\\\\HP\\\\Downloads\\\\Customer.csv')\n",
    "pr=pd.read_csv('C:\\\\Users\\\\HP\\\\Downloads\\\\Products.csv')\n",
    "od=pd.read_csv('C:\\\\Users\\\\HP\\\\Downloads\\\\Orders.csv')\n",
    "tr=pd.read_csv('C:\\\\Users\\\\HP\\\\Downloads\\\\Transactions.csv')\n",
    "rt=pd.read_csv('C:\\\\Users\\\\HP\\\\Downloads\\\\Ratings.csv')\n",
    "sp=pd.read_csv('C:\\\\Users\\\\HP\\\\Downloads\\\\Subscription_Plan.csv')\n",
    "sd=pd.read_csv('C:\\\\Users\\\\HP\\\\Downloads\\\\Subscription_Details.csv')\n",
    "dv=pd.read_csv('C:\\\\Users\\\\HP\\\\Downloads\\\\Delievry.csv')\n",
    "rr=pd.read_csv('C:\\\\Users\\\\HP\\\\Downloads\\\\Returns_Refund.csv')"
   ]
  },
  {
   "cell_type": "code",
   "execution_count": 17,
   "id": "aa9510b7-7e4d-4c68-b039-0bb73af1df05",
   "metadata": {},
   "outputs": [
    {
     "data": {
      "text/html": [
       "<div>\n",
       "<style scoped>\n",
       "    .dataframe tbody tr th:only-of-type {\n",
       "        vertical-align: middle;\n",
       "    }\n",
       "\n",
       "    .dataframe tbody tr th {\n",
       "        vertical-align: top;\n",
       "    }\n",
       "\n",
       "    .dataframe thead th {\n",
       "        text-align: right;\n",
       "    }\n",
       "</style>\n",
       "<table border=\"1\" class=\"dataframe\">\n",
       "  <thead>\n",
       "    <tr style=\"text-align: right;\">\n",
       "      <th></th>\n",
       "      <th>P_ID</th>\n",
       "      <th>PName</th>\n",
       "      <th>Category</th>\n",
       "      <th>Specs1</th>\n",
       "      <th>Price</th>\n",
       "    </tr>\n",
       "  </thead>\n",
       "  <tbody>\n",
       "    <tr>\n",
       "      <th>0</th>\n",
       "      <td>PD_21000001</td>\n",
       "      <td>Threat</td>\n",
       "      <td>Fashion</td>\n",
       "      <td>test</td>\n",
       "      <td>332.77</td>\n",
       "    </tr>\n",
       "    <tr>\n",
       "      <th>1</th>\n",
       "      <td>PD_21000002</td>\n",
       "      <td>Former</td>\n",
       "      <td>Home Appliance</td>\n",
       "      <td>successful</td>\n",
       "      <td>225.24</td>\n",
       "    </tr>\n",
       "    <tr>\n",
       "      <th>2</th>\n",
       "      <td>PD_21000003</td>\n",
       "      <td>Activity</td>\n",
       "      <td>Books</td>\n",
       "      <td>score</td>\n",
       "      <td>371.94</td>\n",
       "    </tr>\n",
       "    <tr>\n",
       "      <th>3</th>\n",
       "      <td>PD_21000004</td>\n",
       "      <td>Friend</td>\n",
       "      <td>Home Appliance</td>\n",
       "      <td>performance</td>\n",
       "      <td>294.26</td>\n",
       "    </tr>\n",
       "    <tr>\n",
       "      <th>4</th>\n",
       "      <td>PD_21000005</td>\n",
       "      <td>Attention</td>\n",
       "      <td>Home Appliance</td>\n",
       "      <td>conference</td>\n",
       "      <td>71.29</td>\n",
       "    </tr>\n",
       "    <tr>\n",
       "      <th>5</th>\n",
       "      <td>PD_21000006</td>\n",
       "      <td>Tend</td>\n",
       "      <td>Electronics</td>\n",
       "      <td>affect</td>\n",
       "      <td>106.08</td>\n",
       "    </tr>\n",
       "    <tr>\n",
       "      <th>6</th>\n",
       "      <td>PD_21000007</td>\n",
       "      <td>Pattern</td>\n",
       "      <td>Home Appliance</td>\n",
       "      <td>dinner</td>\n",
       "      <td>354.91</td>\n",
       "    </tr>\n",
       "    <tr>\n",
       "      <th>7</th>\n",
       "      <td>PD_21000008</td>\n",
       "      <td>Property</td>\n",
       "      <td>Books</td>\n",
       "      <td>performance</td>\n",
       "      <td>276.41</td>\n",
       "    </tr>\n",
       "    <tr>\n",
       "      <th>8</th>\n",
       "      <td>PD_21000009</td>\n",
       "      <td>Company</td>\n",
       "      <td>Fashion</td>\n",
       "      <td>about</td>\n",
       "      <td>162.23</td>\n",
       "    </tr>\n",
       "    <tr>\n",
       "      <th>9</th>\n",
       "      <td>PD_21000010</td>\n",
       "      <td>Bank</td>\n",
       "      <td>Fashion</td>\n",
       "      <td>learn</td>\n",
       "      <td>464.10</td>\n",
       "    </tr>\n",
       "  </tbody>\n",
       "</table>\n",
       "</div>"
      ],
      "text/plain": [
       "          P_ID      PName        Category       Specs1   Price\n",
       "0  PD_21000001     Threat         Fashion         test  332.77\n",
       "1  PD_21000002     Former  Home Appliance   successful  225.24\n",
       "2  PD_21000003   Activity           Books        score  371.94\n",
       "3  PD_21000004     Friend  Home Appliance  performance  294.26\n",
       "4  PD_21000005  Attention  Home Appliance   conference   71.29\n",
       "5  PD_21000006       Tend     Electronics       affect  106.08\n",
       "6  PD_21000007    Pattern  Home Appliance       dinner  354.91\n",
       "7  PD_21000008   Property           Books  performance  276.41\n",
       "8  PD_21000009    Company         Fashion        about  162.23\n",
       "9  PD_21000010       Bank         Fashion        learn  464.10"
      ]
     },
     "execution_count": 17,
     "metadata": {},
     "output_type": "execute_result"
    }
   ],
   "source": [
    "pr.head(10)"
   ]
  },
  {
   "cell_type": "code",
   "execution_count": 19,
   "id": "63de7270-634e-497c-9398-da85922f329f",
   "metadata": {},
   "outputs": [
    {
     "name": "stdout",
     "output_type": "stream",
     "text": [
      "Customers: (10184, 8)\n",
      "Products: (10000, 5)\n",
      "Orders: (10000, 8)\n",
      "Transactions: (10000, 4)\n",
      "Ratings: (10000, 4)\n",
      "Subscription_Plan: (3, 3)\n",
      "Subscription_Details: (10036, 5)\n",
      "Delivery: (325, 3)\n",
      "Returns_Refund: (2000, 5)\n"
     ]
    }
   ],
   "source": [
    "print('Customers:',cs.shape)\n",
    "print('Products:',pr.shape)\n",
    "print('Orders:',od.shape)\n",
    "print('Transactions:',tr.shape)\n",
    "print('Ratings:',rt.shape)\n",
    "print('Subscription_Plan:',sp.shape)\n",
    "print('Subscription_Details:',sd.shape)\n",
    "print('Delivery:',dv.shape)\n",
    "print('Returns_Refund:',rr.shape)"
   ]
  },
  {
   "cell_type": "code",
   "execution_count": 21,
   "id": "715926ab-9f67-43b0-9e78-efb64a01944f",
   "metadata": {},
   "outputs": [
    {
     "data": {
      "text/plain": [
       "184"
      ]
     },
     "execution_count": 21,
     "metadata": {},
     "output_type": "execute_result"
    }
   ],
   "source": [
    "cs.duplicated().sum()\n"
   ]
  },
  {
   "cell_type": "code",
   "execution_count": 23,
   "id": "676a542a-5bd1-47ea-b815-637c854f03b2",
   "metadata": {},
   "outputs": [],
   "source": [
    "\n",
    "cs.drop_duplicates(keep='first',inplace=True)"
   ]
  },
  {
   "cell_type": "code",
   "execution_count": 25,
   "id": "472db51d-14f9-431c-a1e6-169ebd43bee2",
   "metadata": {},
   "outputs": [
    {
     "data": {
      "text/plain": [
       "0"
      ]
     },
     "execution_count": 25,
     "metadata": {},
     "output_type": "execute_result"
    }
   ],
   "source": [
    "cs.duplicated().sum()\n"
   ]
  },
  {
   "cell_type": "code",
   "execution_count": 27,
   "id": "baa1ba40-4594-41e0-9e25-0c4150b3080f",
   "metadata": {},
   "outputs": [
    {
     "data": {
      "text/plain": [
       "0"
      ]
     },
     "execution_count": 27,
     "metadata": {},
     "output_type": "execute_result"
    }
   ],
   "source": [
    "pr.duplicated().sum()"
   ]
  },
  {
   "cell_type": "code",
   "execution_count": 29,
   "id": "625752be-2d0a-4a93-aad7-5998c4b83b41",
   "metadata": {},
   "outputs": [
    {
     "data": {
      "text/plain": [
       "0"
      ]
     },
     "execution_count": 29,
     "metadata": {},
     "output_type": "execute_result"
    }
   ],
   "source": [
    "od.duplicated().sum()"
   ]
  },
  {
   "cell_type": "code",
   "execution_count": 31,
   "id": "5623faaf-5970-423b-a3ed-c9113afc8d12",
   "metadata": {},
   "outputs": [
    {
     "data": {
      "text/plain": [
       "0"
      ]
     },
     "execution_count": 31,
     "metadata": {},
     "output_type": "execute_result"
    }
   ],
   "source": [
    "tr.duplicated().sum()"
   ]
  },
  {
   "cell_type": "code",
   "execution_count": 33,
   "id": "0e940819-3df8-497b-bcce-c9006e5016a1",
   "metadata": {},
   "outputs": [
    {
     "data": {
      "text/plain": [
       "0"
      ]
     },
     "execution_count": 33,
     "metadata": {},
     "output_type": "execute_result"
    }
   ],
   "source": [
    "rt.duplicated().sum()"
   ]
  },
  {
   "cell_type": "code",
   "execution_count": 35,
   "id": "44feed17-da4d-4357-aee4-220e51d2fc8f",
   "metadata": {},
   "outputs": [
    {
     "data": {
      "text/plain": [
       "0"
      ]
     },
     "execution_count": 35,
     "metadata": {},
     "output_type": "execute_result"
    }
   ],
   "source": [
    "sp.duplicated().sum()"
   ]
  },
  {
   "cell_type": "code",
   "execution_count": 37,
   "id": "3eeb9539-87ac-40f2-bc36-91b60919aad7",
   "metadata": {},
   "outputs": [
    {
     "data": {
      "text/plain": [
       "0"
      ]
     },
     "execution_count": 37,
     "metadata": {},
     "output_type": "execute_result"
    }
   ],
   "source": [
    "sd.duplicated().sum()"
   ]
  },
  {
   "cell_type": "code",
   "execution_count": 39,
   "id": "be5fc0a9-2629-4737-861e-991053d9cf55",
   "metadata": {},
   "outputs": [
    {
     "data": {
      "text/plain": [
       "25"
      ]
     },
     "execution_count": 39,
     "metadata": {},
     "output_type": "execute_result"
    }
   ],
   "source": [
    "dv.duplicated().sum()"
   ]
  },
  {
   "cell_type": "code",
   "execution_count": 47,
   "id": "21f88807-d4e9-42b0-bc6a-5c2f37e7dd5c",
   "metadata": {},
   "outputs": [],
   "source": [
    "dv.drop_duplicates(keep='first',inplace=True)"
   ]
  },
  {
   "cell_type": "code",
   "execution_count": 49,
   "id": "ebb2433d-d82f-4a5e-9a3f-f1d19cdd21d3",
   "metadata": {},
   "outputs": [
    {
     "data": {
      "text/plain": [
       "0"
      ]
     },
     "execution_count": 49,
     "metadata": {},
     "output_type": "execute_result"
    }
   ],
   "source": [
    "dv.duplicated().sum()\n"
   ]
  },
  {
   "cell_type": "code",
   "execution_count": 51,
   "id": "7b717a41-0452-4ee3-ae00-83a75048f28f",
   "metadata": {},
   "outputs": [
    {
     "data": {
      "text/plain": [
       "0"
      ]
     },
     "execution_count": 51,
     "metadata": {},
     "output_type": "execute_result"
    }
   ],
   "source": [
    "rr.duplicated().sum()"
   ]
  },
  {
   "cell_type": "code",
   "execution_count": 53,
   "id": "f61c57de-d26d-4462-ba9a-0bd60bd9e13f",
   "metadata": {},
   "outputs": [
    {
     "name": "stdout",
     "output_type": "stream",
     "text": [
      "Customers: (10000, 8)\n",
      "Products: (10000, 5)\n",
      "Orders: (10000, 8)\n",
      "Transactions: (10000, 4)\n",
      "Ratings: (10000, 4)\n",
      "Subscription_Plan: (3, 3)\n",
      "Subscription_Details: (10036, 5)\n",
      "Delivery: (300, 3)\n",
      "Returns_Refund: (2000, 5)\n"
     ]
    }
   ],
   "source": [
    "print('Customers:',cs.shape)\n",
    "print('Products:',pr.shape)\n",
    "print('Orders:',od.shape)\n",
    "print('Transactions:',tr.shape)\n",
    "print('Ratings:',rt.shape)\n",
    "print('Subscription_Plan:',sp.shape)\n",
    "print('Subscription_Details:',sd.shape)\n",
    "print('Delivery:',dv.shape)\n",
    "print('Returns_Refund:',rr.shape)"
   ]
  },
  {
   "cell_type": "code",
   "execution_count": 55,
   "id": "49bf6d94-16dd-4e43-9cc2-fff1c719015d",
   "metadata": {},
   "outputs": [
    {
     "data": {
      "text/plain": [
       "C_ID              0\n",
       "C_Name            0\n",
       "Gender            0\n",
       "Age               0\n",
       "City              0\n",
       "State             0\n",
       "Street Address    0\n",
       "Mobile            0\n",
       "dtype: int64"
      ]
     },
     "execution_count": 55,
     "metadata": {},
     "output_type": "execute_result"
    }
   ],
   "source": [
    "cs.isna().sum()"
   ]
  },
  {
   "cell_type": "code",
   "execution_count": 57,
   "id": "f01fe1a9-a342-45d2-9291-341ae1275662",
   "metadata": {},
   "outputs": [
    {
     "data": {
      "text/plain": [
       "P_ID         0\n",
       "PName       14\n",
       "Category     0\n",
       "Specs1       0\n",
       "Price        0\n",
       "dtype: int64"
      ]
     },
     "execution_count": 57,
     "metadata": {},
     "output_type": "execute_result"
    }
   ],
   "source": [
    "pr.isna().sum()"
   ]
  },
  {
   "cell_type": "code",
   "execution_count": 59,
   "id": "48ae371e-5e4d-4203-9948-ea642c4c608c",
   "metadata": {},
   "outputs": [],
   "source": [
    "pr.dropna(inplace=True)"
   ]
  },
  {
   "cell_type": "code",
   "execution_count": 61,
   "id": "3b7dade3-58fe-40d1-8613-e06e54834d34",
   "metadata": {},
   "outputs": [
    {
     "data": {
      "text/plain": [
       "P_ID        0\n",
       "PName       0\n",
       "Category    0\n",
       "Specs1      0\n",
       "Price       0\n",
       "dtype: int64"
      ]
     },
     "execution_count": 61,
     "metadata": {},
     "output_type": "execute_result"
    }
   ],
   "source": [
    "pr.isna().sum()"
   ]
  },
  {
   "cell_type": "code",
   "execution_count": 63,
   "id": "969b2896-ef0a-4573-bb92-d80c8d57ea8e",
   "metadata": {},
   "outputs": [
    {
     "data": {
      "text/plain": [
       "Or_ID            0\n",
       "C_ID             0\n",
       "P_ID             0\n",
       "Order_Date       0\n",
       "Order_Time       0\n",
       "Qty              0\n",
       "Coupon        5011\n",
       "DP_ID            0\n",
       "dtype: int64"
      ]
     },
     "execution_count": 63,
     "metadata": {},
     "output_type": "execute_result"
    }
   ],
   "source": [
    "od.isna().sum()"
   ]
  },
  {
   "cell_type": "code",
   "execution_count": 100,
   "id": "30379d21-9582-4271-93e3-d11c59086369",
   "metadata": {},
   "outputs": [],
   "source": [
    "od['Coupon']=od['Coupon'].fillna('No Coupon')"
   ]
  },
  {
   "cell_type": "code",
   "execution_count": 102,
   "id": "2cf36cdf-a3e9-4fbc-8ffb-e2662cb2ce04",
   "metadata": {},
   "outputs": [
    {
     "data": {
      "text/plain": [
       "Or_ID         0\n",
       "C_ID          0\n",
       "P_ID          0\n",
       "Order_Date    0\n",
       "Order_Time    0\n",
       "Qty           0\n",
       "Coupon        0\n",
       "DP_ID         0\n",
       "dtype: int64"
      ]
     },
     "execution_count": 102,
     "metadata": {},
     "output_type": "execute_result"
    }
   ],
   "source": [
    "od.isna().sum()"
   ]
  },
  {
   "cell_type": "code",
   "execution_count": 69,
   "id": "5f4e507b-dc97-42d3-8337-1f807c11fc81",
   "metadata": {},
   "outputs": [
    {
     "data": {
      "text/plain": [
       "Tr_ID                0\n",
       "Or_ID                0\n",
       "Transaction_Mode    33\n",
       "Tran_Status          0\n",
       "dtype: int64"
      ]
     },
     "execution_count": 69,
     "metadata": {},
     "output_type": "execute_result"
    }
   ],
   "source": [
    "tr.isna().sum()"
   ]
  },
  {
   "cell_type": "code",
   "execution_count": 104,
   "id": "fe79a4d9-cb8d-4123-9d97-880d6bf21015",
   "metadata": {},
   "outputs": [],
   "source": [
    "tr['Transaction_Mode']=tr['Transaction_Mode'].fillna('Other MOP')"
   ]
  },
  {
   "cell_type": "code",
   "execution_count": 106,
   "id": "21801f4d-6b6d-4e73-9b61-2add21a2451b",
   "metadata": {},
   "outputs": [
    {
     "data": {
      "text/plain": [
       "Tr_ID               0\n",
       "Or_ID               0\n",
       "Transaction_Mode    0\n",
       "Tran_Status         0\n",
       "dtype: int64"
      ]
     },
     "execution_count": 106,
     "metadata": {},
     "output_type": "execute_result"
    }
   ],
   "source": [
    "tr.isna().sum()"
   ]
  },
  {
   "cell_type": "code",
   "execution_count": 75,
   "id": "cd1f1318-b9b1-4cd6-b48c-5e03726b3bff",
   "metadata": {},
   "outputs": [
    {
     "data": {
      "text/plain": [
       "R_ID                        0\n",
       "Or_ID                       0\n",
       "Prod_Rating                22\n",
       "Delivery/Service_Rating    29\n",
       "dtype: int64"
      ]
     },
     "execution_count": 75,
     "metadata": {},
     "output_type": "execute_result"
    }
   ],
   "source": [
    "rt.isna().sum()"
   ]
  },
  {
   "cell_type": "code",
   "execution_count": 108,
   "id": "23d2ffe3-6039-405f-9dfd-cb6dd1a35704",
   "metadata": {},
   "outputs": [],
   "source": [
    "rt['Prod_Rating']=rt['Prod_Rating'].fillna(round(rt['Prod_Rating'].mean(),1))"
   ]
  },
  {
   "cell_type": "code",
   "execution_count": 110,
   "id": "fac0be8b-f2f8-4fdb-80a8-6e38880906f6",
   "metadata": {},
   "outputs": [],
   "source": [
    "rt['Delivery/Service_Rating']=rt['Delivery/Service_Rating'].fillna(round(rt['Delivery/Service_Rating'].mean(),1))"
   ]
  },
  {
   "cell_type": "code",
   "execution_count": 112,
   "id": "1a4e0004-40d6-4cc6-a432-80230ebfcc5e",
   "metadata": {},
   "outputs": [
    {
     "data": {
      "text/plain": [
       "R_ID                       0\n",
       "Or_ID                      0\n",
       "Prod_Rating                0\n",
       "Delivery/Service_Rating    0\n",
       "dtype: int64"
      ]
     },
     "execution_count": 112,
     "metadata": {},
     "output_type": "execute_result"
    }
   ],
   "source": [
    "rt.isna().sum()"
   ]
  },
  {
   "cell_type": "code",
   "execution_count": 81,
   "id": "e3f16c86-a908-4e4f-82c8-d027dc298738",
   "metadata": {},
   "outputs": [
    {
     "data": {
      "text/plain": [
       "Plan_ID      0\n",
       "Plan_Name    0\n",
       "Features     0\n",
       "dtype: int64"
      ]
     },
     "execution_count": 81,
     "metadata": {},
     "output_type": "execute_result"
    }
   ],
   "source": [
    "sp.isna().sum()"
   ]
  },
  {
   "cell_type": "code",
   "execution_count": 83,
   "id": "d809ab6e-c602-48a9-9d38-68945cd23fd5",
   "metadata": {},
   "outputs": [
    {
     "data": {
      "text/plain": [
       "SD_ID        0\n",
       "C_ID         0\n",
       "Plan_ID      0\n",
       "From_Date    0\n",
       "To_Date      0\n",
       "dtype: int64"
      ]
     },
     "execution_count": 83,
     "metadata": {},
     "output_type": "execute_result"
    }
   ],
   "source": [
    "sd.isna().sum()"
   ]
  },
  {
   "cell_type": "code",
   "execution_count": 86,
   "id": "db64e342-994c-4e20-ae3a-bbe9b1d6b6d5",
   "metadata": {},
   "outputs": [
    {
     "data": {
      "text/plain": [
       "DP_ID          0\n",
       "DP_Name        0\n",
       "DP_Ratings    20\n",
       "dtype: int64"
      ]
     },
     "execution_count": 86,
     "metadata": {},
     "output_type": "execute_result"
    }
   ],
   "source": [
    "dv.isna().sum()"
   ]
  },
  {
   "cell_type": "code",
   "execution_count": 114,
   "id": "f4c8af3e-9b78-4b1f-89b7-8b904a92c082",
   "metadata": {},
   "outputs": [],
   "source": [
    "dv['DP_Ratings']=dv['DP_Ratings'].fillna(round(dv['DP_Ratings'].mean(),1))"
   ]
  },
  {
   "cell_type": "code",
   "execution_count": 116,
   "id": "147acb4b-4915-4823-b51c-76683725b212",
   "metadata": {},
   "outputs": [
    {
     "data": {
      "text/plain": [
       "DP_ID         0\n",
       "DP_Name       0\n",
       "DP_Ratings    0\n",
       "dtype: int64"
      ]
     },
     "execution_count": 116,
     "metadata": {},
     "output_type": "execute_result"
    }
   ],
   "source": [
    "dv.isna().sum()"
   ]
  },
  {
   "cell_type": "code",
   "execution_count": 92,
   "id": "cd165271-094b-4a0d-bb72-fe72c1999259",
   "metadata": {},
   "outputs": [
    {
     "data": {
      "text/plain": [
       "RT_ID            0\n",
       "Or_ID            0\n",
       "Reason           0\n",
       "Return/Refund    0\n",
       "Date             0\n",
       "dtype: int64"
      ]
     },
     "execution_count": 92,
     "metadata": {},
     "output_type": "execute_result"
    }
   ],
   "source": [
    "rr.isna().sum()"
   ]
  },
  {
   "cell_type": "code",
   "execution_count": 118,
   "id": "77d38b7f-1061-419f-8d54-ee7dbbeca8d8",
   "metadata": {},
   "outputs": [],
   "source": [
    "od.drop(['Order_Time'],axis=1,inplace=True)"
   ]
  },
  {
   "cell_type": "code",
   "execution_count": 120,
   "id": "65f04872-1ebe-471a-82d8-4587f7d5e227",
   "metadata": {},
   "outputs": [
    {
     "name": "stdout",
     "output_type": "stream",
     "text": [
      "            Or_ID         C_ID         P_ID  Order_Date  Qty        Coupon  \\\n",
      "1     OR_31000002  CS_11000423  PD_21003593  2024-01-21    5          PULL   \n",
      "3     OR_31000004  CS_11004079  PD_21007443  2023-05-26   10     AGREEMENT   \n",
      "4     OR_31000005  CS_11009894  PD_21007621  2023-10-26    7        WINDOW   \n",
      "5     OR_31000006  CS_11004976  PD_21002407  2023-12-09    1          FALL   \n",
      "6     OR_31000007  CS_11009282  PD_21005526  2023-05-12    9          TEAM   \n",
      "...           ...          ...          ...         ...  ...           ...   \n",
      "9992  OR_31009993  CS_11005653  PD_21000788  2024-09-01    5        FRIEND   \n",
      "9993  OR_31009994  CS_11004283  PD_21001629  2024-10-09    1  ORGANIZATION   \n",
      "9994  OR_31009995  CS_11008874  PD_21000407  2023-02-23    6         TRUTH   \n",
      "9995  OR_31009996  CS_11004842  PD_21004878  2024-11-14    5       MILLION   \n",
      "9998  OR_31009999  CS_11006873  PD_21005870  2024-07-15    6         EVERY   \n",
      "\n",
      "            DP_ID  \n",
      "1     DV_61000085  \n",
      "3     DV_61000292  \n",
      "4     DV_61000096  \n",
      "5     DV_61000162  \n",
      "6     DV_61000151  \n",
      "...           ...  \n",
      "9992  DV_61000208  \n",
      "9993  DV_61000046  \n",
      "9994  DV_61000181  \n",
      "9995  DV_61000106  \n",
      "9998  DV_61000028  \n",
      "\n",
      "[4989 rows x 7 columns]\n"
     ]
    }
   ],
   "source": [
    "print(od)"
   ]
  },
  {
   "cell_type": "code",
   "execution_count": 122,
   "id": "84eb53d6-de14-4611-a34b-16cf5baa6c79",
   "metadata": {},
   "outputs": [],
   "source": [
    "od['Order_Date']=pd.to_datetime(od['Order_Date'])"
   ]
  },
  {
   "cell_type": "code",
   "execution_count": 124,
   "id": "62abc181-f0a7-4825-991a-9b1f9ee69502",
   "metadata": {},
   "outputs": [],
   "source": [
    "sd['From_Date']=pd.to_datetime(sd['From_Date'])\n",
    "sd['To_Date']=pd.to_datetime(sd['To_Date'])"
   ]
  },
  {
   "cell_type": "code",
   "execution_count": 126,
   "id": "afc270da-90af-4894-91fc-aecef915f9c6",
   "metadata": {},
   "outputs": [],
   "source": [
    "rr['Date']=pd.to_datetime( rr['Date'])"
   ]
  },
  {
   "cell_type": "code",
   "execution_count": 140,
   "id": "90960b71-581e-4c16-a9a6-e308a43d1080",
   "metadata": {},
   "outputs": [],
   "source": [
    "cs.to_csv('your_file.csv', index=False)\n"
   ]
  },
  {
   "cell_type": "code",
   "execution_count": 142,
   "id": "fb63ba15-c2d4-4f89-855c-3dfa8650141d",
   "metadata": {},
   "outputs": [],
   "source": [
    "pr.to_csv('your_file.csv', index=False)\n",
    "          "
   ]
  },
  {
   "cell_type": "code",
   "execution_count": 144,
   "id": "57006552-1b3c-45d8-909b-75b6e07993b9",
   "metadata": {},
   "outputs": [],
   "source": [
    "od.to_csv('your_file.csv', index=False)\n"
   ]
  },
  {
   "cell_type": "code",
   "execution_count": 146,
   "id": "ad1241b0-55f0-43ce-9189-86d2c2f9457e",
   "metadata": {},
   "outputs": [],
   "source": [
    "tr.to_csv('your_file.csv', index=False)\n"
   ]
  },
  {
   "cell_type": "code",
   "execution_count": 148,
   "id": "a426d743-7dae-4c69-8a18-ef9b954792de",
   "metadata": {},
   "outputs": [],
   "source": [
    "rt.to_csv('your_file.csv', index=False)\n"
   ]
  },
  {
   "cell_type": "code",
   "execution_count": 152,
   "id": "5f2db65b-52c2-4a26-ae8d-2387e04eb5d5",
   "metadata": {},
   "outputs": [],
   "source": [
    "sp.to_csv('your_file.csv', index=False)\n"
   ]
  },
  {
   "cell_type": "code",
   "execution_count": 154,
   "id": "b54c7507-8f02-4dde-9a19-d9e1dfa4ec9f",
   "metadata": {},
   "outputs": [],
   "source": [
    "sd.to_csv('your_file.csv', index=False)\n"
   ]
  },
  {
   "cell_type": "code",
   "execution_count": 156,
   "id": "64b5bc28-513c-412f-86a3-4059b35e5e52",
   "metadata": {},
   "outputs": [],
   "source": [
    "dv.to_csv('your_file.csv', index=False)\n"
   ]
  },
  {
   "cell_type": "code",
   "execution_count": 159,
   "id": "4c9e92a4-c75b-40b8-96c8-5aa502267805",
   "metadata": {},
   "outputs": [],
   "source": [
    "rr.to_csv('your_file.csv', index=False)"
   ]
  },
  {
   "cell_type": "code",
   "execution_count": null,
   "id": "c07eb1d0-b3cf-4d8f-b73f-0bb1169a13fd",
   "metadata": {},
   "outputs": [],
   "source": []
  }
 ],
 "metadata": {
  "kernelspec": {
   "display_name": "Python [conda env:base] *",
   "language": "python",
   "name": "conda-base-py"
  },
  "language_info": {
   "codemirror_mode": {
    "name": "ipython",
    "version": 3
   },
   "file_extension": ".py",
   "mimetype": "text/x-python",
   "name": "python",
   "nbconvert_exporter": "python",
   "pygments_lexer": "ipython3",
   "version": "3.12.7"
  }
 },
 "nbformat": 4,
 "nbformat_minor": 5
}
